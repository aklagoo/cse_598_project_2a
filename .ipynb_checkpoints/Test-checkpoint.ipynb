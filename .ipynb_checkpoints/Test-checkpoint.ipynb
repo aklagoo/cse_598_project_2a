{
 "cells": [
  {
   "cell_type": "code",
   "execution_count": 1,
   "metadata": {},
   "outputs": [],
   "source": [
    "import const\n",
    "import glob\n",
    "import os.path\n",
    "import cv2\n",
    "import matplotlib\n",
    "import numpy as np\n",
    "%matplotlib inline"
   ]
  },
  {
   "cell_type": "code",
   "execution_count": 2,
   "metadata": {},
   "outputs": [],
   "source": [
    "img = {'left': [], 'right': []}\n",
    "l_files = glob.glob(os.path.join(const.IMG_DIR, 'task_1\\\\left_*'))\n",
    "for file in l_files:\n",
    "    img['left'].append(cv2.imread(file))\n",
    "r_files = glob.glob(os.path.join(const.IMG_DIR, 'task_1\\\\right_*'))\n",
    "for file in r_files:\n",
    "    img['right'].append(cv2.imread(file))"
   ]
  },
  {
   "cell_type": "code",
   "execution_count": 3,
   "metadata": {},
   "outputs": [],
   "source": [
    "img_c = {'left': [], 'right': []}\n",
    "for l_img in img['left']:\n",
    "    img_c['left'].append(cv2.findChessboardCorners(l_img, (9,6)))\n",
    "for r_img in img['right']:\n",
    "    img_c['right'].append(cv2.findChessboardCorners(r_img, (9,6)))"
   ]
  },
  {
   "cell_type": "code",
   "execution_count": 4,
   "metadata": {},
   "outputs": [],
   "source": [
    "undistorted_c = np.concatenate((np.mgrid[0:7, 0:6].T.reshape(-1,2), np.zeros((42,1))), axis=1)"
   ]
  },
  {
   "cell_type": "code",
   "execution_count": 5,
   "metadata": {},
   "outputs": [
    {
     "data": {
      "text/plain": [
       "(54, 1, 2)"
      ]
     },
     "execution_count": 5,
     "metadata": {},
     "output_type": "execute_result"
    }
   ],
   "source": [
    "img_c['left'][0][1].shape"
   ]
  }
 ],
 "metadata": {
  "kernelspec": {
   "display_name": "Python 3",
   "language": "python",
   "name": "python3"
  },
  "language_info": {
   "codemirror_mode": {
    "name": "ipython",
    "version": 3
   },
   "file_extension": ".py",
   "mimetype": "text/x-python",
   "name": "python",
   "nbconvert_exporter": "python",
   "pygments_lexer": "ipython3",
   "version": "3.8.5"
  }
 },
 "nbformat": 4,
 "nbformat_minor": 4
}
