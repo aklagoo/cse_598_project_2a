{
 "cells": [
  {
   "cell_type": "code",
   "execution_count": 1,
   "id": "emerging-swaziland",
   "metadata": {},
   "outputs": [],
   "source": [
    "import const\n",
    "import os\n",
    "import numpy as np\n",
    "import cv2\n",
    "import matplotlib\n",
    "%matplotlib inline"
   ]
  },
  {
   "cell_type": "markdown",
   "id": "instrumental-venture",
   "metadata": {},
   "source": [
    "## Step 1: Load files"
   ]
  },
  {
   "cell_type": "code",
   "execution_count": 9,
   "id": "funky-traffic",
   "metadata": {},
   "outputs": [],
   "source": [
    "img_l = cv2.imread(os.path.join(const.IMG_DIR, 'task_2\\\\left_0.png'))\n",
    "img_r = cv2.imread(os.path.join(const.IMG_DIR, 'task_2\\\\right_0.png'))\n",
    "\n",
    "cam_mtx_l = np.loadtxt(os.path.join(const.PAR_DIR, 'left_camera_intrinsics_cam_mtx.csv'))\n",
    "dst_l = np.loadtxt(os.path.join(const.PAR_DIR, 'left_camera_intrinsics_dst.csv'))\n",
    "cam_mtx_r = np.loadtxt(os.path.join(const.PAR_DIR, 'right_camera_intrinsics_cam_mtx.csv'))\n",
    "dst_r = np.loadtxt(os.path.join(const.PAR_DIR, 'right_camera_intrinsics_dst.csv'))"
   ]
  },
  {
   "cell_type": "markdown",
   "id": "brief-there",
   "metadata": {},
   "source": [
    "## Step 2: Find 3D-2D point correspondences"
   ]
  },
  {
   "cell_type": "code",
   "execution_count": 6,
   "id": "pressed-astronomy",
   "metadata": {},
   "outputs": [],
   "source": [
    "crn_l = cv2.findChessboardCorners(img_l, const.GRID_SIZE)[1]\n",
    "crn_r = cv2.findChessboardCorners(img_r, const.GRID_SIZE)[1]"
   ]
  },
  {
   "cell_type": "code",
   "execution_count": 8,
   "id": "matched-signal",
   "metadata": {},
   "outputs": [],
   "source": [
    "obj_pt = np.concatenate((\n",
    "        np.mgrid[0:const.GRID_SIZE[0], 0:const.GRID_SIZE[1]].T.reshape(-1, 2),\n",
    "        np.zeros((const.GRID_SIZE[0] * const.GRID_SIZE[1], 1))\n",
    "    ), axis=1).astype('float32')"
   ]
  },
  {
   "cell_type": "code",
   "execution_count": 18,
   "id": "aquatic-mexican",
   "metadata": {},
   "outputs": [
    {
     "data": {
      "text/plain": [
       "(54, 1, 2)"
      ]
     },
     "execution_count": 18,
     "metadata": {},
     "output_type": "execute_result"
    }
   ],
   "source": [
    "crn_l.shape"
   ]
  },
  {
   "cell_type": "markdown",
   "id": "northern-buffer",
   "metadata": {},
   "source": [
    "## Step 3: Stereo Calibrate"
   ]
  },
  {
   "cell_type": "code",
   "execution_count": 19,
   "id": "paperback-suspension",
   "metadata": {},
   "outputs": [],
   "source": [
    "params = cv2.stereoCalibrate(np.array([obj_pt]), np.array([crn_l]), np.array([crn_r]), cam_mtx_l, dst_l, cam_mtx_r, dst_r, (480, 640), flags=cv2.CALIB_FIX_INTRINSIC)"
   ]
  },
  {
   "cell_type": "code",
   "execution_count": 22,
   "id": "played-decline",
   "metadata": {},
   "outputs": [],
   "source": [
    "_, cam_mtx_l, dst_l, cam_mtx_r, dst_r, R, T, E, F = params"
   ]
  },
  {
   "cell_type": "markdown",
   "id": "described-basics",
   "metadata": {},
   "source": [
    "## Step 5: Undistort points"
   ]
  },
  {
   "cell_type": "code",
   "execution_count": 25,
   "id": "sealed-findings",
   "metadata": {},
   "outputs": [],
   "source": [
    "R_l, R_r, P_l, P_r, Q, roi_l, roi_r = cv2.stereoRectify(cam_mtx_l, dst_l, cam_mtx_r, dst_r, (480, 640), R, T)"
   ]
  },
  {
   "cell_type": "code",
   "execution_count": 29,
   "id": "practical-beginning",
   "metadata": {},
   "outputs": [
    {
     "data": {
      "text/plain": [
       "array([[ 0.99984565,  0.01242057,  0.01242603],\n",
       "       [-0.01238433,  0.99991884, -0.00298908],\n",
       "       [-0.01246215,  0.00283473,  0.99991833]])"
      ]
     },
     "execution_count": 29,
     "metadata": {},
     "output_type": "execute_result"
    }
   ],
   "source": [
    "R_r"
   ]
  }
 ],
 "metadata": {
  "kernelspec": {
   "display_name": "Python 3",
   "language": "python",
   "name": "python3"
  },
  "language_info": {
   "codemirror_mode": {
    "name": "ipython",
    "version": 3
   },
   "file_extension": ".py",
   "mimetype": "text/x-python",
   "name": "python",
   "nbconvert_exporter": "python",
   "pygments_lexer": "ipython3",
   "version": "3.8.5"
  }
 },
 "nbformat": 4,
 "nbformat_minor": 5
}
